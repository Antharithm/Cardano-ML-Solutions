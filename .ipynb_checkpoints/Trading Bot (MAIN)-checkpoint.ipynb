{
 "cells": [
  {
   "cell_type": "markdown",
   "id": "46630603-80e6-4712-add1-a032ec2fd32a",
   "metadata": {},
   "source": [
    "Main Bot algorithm / combine SMA and Profit-Loss metrics"
   ]
  },
  {
   "cell_type": "code",
   "execution_count": 2,
   "id": "ad61f534-e990-48ea-bf84-bb05615be499",
   "metadata": {},
   "outputs": [],
   "source": [
    "#import warning\n",
    "#warnings.filterwarnings(\"ignor\")"
   ]
  },
  {
   "cell_type": "code",
   "execution_count": 32,
   "id": "6cacde45-9a10-445c-badc-409777ee5b23",
   "metadata": {},
   "outputs": [
    {
     "data": {
      "text/plain": [
       "True"
      ]
     },
     "execution_count": 32,
     "metadata": {},
     "output_type": "execute_result"
    }
   ],
   "source": [
    "# Import libraries and dependencies\n",
    "import numpy as np\n",
    "import pandas as pd\n",
    "import hvplot.pandas\n",
    "from pathlib import Path\n",
    "from dotenv import load_dotenv\n",
    "from collections import Counter\n",
    "\n",
    "# load .env enviroment variables\n",
    "load_dotenv()"
   ]
  },
  {
   "cell_type": "code",
   "execution_count": 33,
   "id": "b210f3bf-63af-46b1-a4e2-36019d4909dc",
   "metadata": {},
   "outputs": [],
   "source": [
    "from sklearn.metrics import balanced_accuracy_score\n",
    "from sklearn.metrics import confusion_matrix\n",
    "from imblearn.metrics import classification_report_imbalanced\n",
    "from sklearn.preprocessing import LabelEncoder, StandardScaler"
   ]
  },
  {
   "cell_type": "code",
   "execution_count": 34,
   "id": "c811487b-7dd7-400a-b718-2f9c7738c2f9",
   "metadata": {},
   "outputs": [
    {
     "data": {
      "text/html": [
       "<div>\n",
       "<style scoped>\n",
       "    .dataframe tbody tr th:only-of-type {\n",
       "        vertical-align: middle;\n",
       "    }\n",
       "\n",
       "    .dataframe tbody tr th {\n",
       "        vertical-align: top;\n",
       "    }\n",
       "\n",
       "    .dataframe thead th {\n",
       "        text-align: right;\n",
       "    }\n",
       "</style>\n",
       "<table border=\"1\" class=\"dataframe\">\n",
       "  <thead>\n",
       "    <tr style=\"text-align: right;\">\n",
       "      <th></th>\n",
       "      <th>Close/Last</th>\n",
       "      <th>Volume</th>\n",
       "      <th>Open</th>\n",
       "      <th>High</th>\n",
       "      <th>Low</th>\n",
       "    </tr>\n",
       "    <tr>\n",
       "      <th>Date</th>\n",
       "      <th></th>\n",
       "      <th></th>\n",
       "      <th></th>\n",
       "      <th></th>\n",
       "      <th></th>\n",
       "    </tr>\n",
       "  </thead>\n",
       "  <tbody>\n",
       "    <tr>\n",
       "      <th>2019-03-08</th>\n",
       "      <td>0.042399</td>\n",
       "      <td>NaN</td>\n",
       "      <td>0.042747</td>\n",
       "      <td>0.043664</td>\n",
       "      <td>0.042069</td>\n",
       "    </tr>\n",
       "    <tr>\n",
       "      <th>2019-03-09</th>\n",
       "      <td>0.046810</td>\n",
       "      <td>NaN</td>\n",
       "      <td>0.042399</td>\n",
       "      <td>0.047101</td>\n",
       "      <td>0.042347</td>\n",
       "    </tr>\n",
       "    <tr>\n",
       "      <th>2019-03-10</th>\n",
       "      <td>0.045223</td>\n",
       "      <td>NaN</td>\n",
       "      <td>0.043223</td>\n",
       "      <td>0.046878</td>\n",
       "      <td>0.045212</td>\n",
       "    </tr>\n",
       "    <tr>\n",
       "      <th>2019-03-11</th>\n",
       "      <td>0.048309</td>\n",
       "      <td>NaN</td>\n",
       "      <td>0.045523</td>\n",
       "      <td>0.048417</td>\n",
       "      <td>0.044662</td>\n",
       "    </tr>\n",
       "    <tr>\n",
       "      <th>2019-03-12</th>\n",
       "      <td>0.047209</td>\n",
       "      <td>NaN</td>\n",
       "      <td>0.047336</td>\n",
       "      <td>0.048115</td>\n",
       "      <td>0.045702</td>\n",
       "    </tr>\n",
       "    <tr>\n",
       "      <th>...</th>\n",
       "      <td>...</td>\n",
       "      <td>...</td>\n",
       "      <td>...</td>\n",
       "      <td>...</td>\n",
       "      <td>...</td>\n",
       "    </tr>\n",
       "    <tr>\n",
       "      <th>2021-09-06</th>\n",
       "      <td>2.829600</td>\n",
       "      <td>NaN</td>\n",
       "      <td>2.907600</td>\n",
       "      <td>2.874700</td>\n",
       "      <td>2.807900</td>\n",
       "    </tr>\n",
       "    <tr>\n",
       "      <th>2021-09-07</th>\n",
       "      <td>2.469600</td>\n",
       "      <td>NaN</td>\n",
       "      <td>2.826700</td>\n",
       "      <td>2.561400</td>\n",
       "      <td>2.456100</td>\n",
       "    </tr>\n",
       "    <tr>\n",
       "      <th>2021-09-08</th>\n",
       "      <td>2.420400</td>\n",
       "      <td>NaN</td>\n",
       "      <td>2.457200</td>\n",
       "      <td>2.504300</td>\n",
       "      <td>2.396900</td>\n",
       "    </tr>\n",
       "    <tr>\n",
       "      <th>2021-09-09</th>\n",
       "      <td>2.545200</td>\n",
       "      <td>NaN</td>\n",
       "      <td>2.424200</td>\n",
       "      <td>2.584800</td>\n",
       "      <td>2.496100</td>\n",
       "    </tr>\n",
       "    <tr>\n",
       "      <th>2021-09-10</th>\n",
       "      <td>2.380600</td>\n",
       "      <td>NaN</td>\n",
       "      <td>2.557800</td>\n",
       "      <td>2.442200</td>\n",
       "      <td>2.369900</td>\n",
       "    </tr>\n",
       "  </tbody>\n",
       "</table>\n",
       "<p>851 rows × 5 columns</p>\n",
       "</div>"
      ],
      "text/plain": [
       "            Close/Last  Volume      Open      High       Low\n",
       "Date                                                        \n",
       "2019-03-08    0.042399     NaN  0.042747  0.043664  0.042069\n",
       "2019-03-09    0.046810     NaN  0.042399  0.047101  0.042347\n",
       "2019-03-10    0.045223     NaN  0.043223  0.046878  0.045212\n",
       "2019-03-11    0.048309     NaN  0.045523  0.048417  0.044662\n",
       "2019-03-12    0.047209     NaN  0.047336  0.048115  0.045702\n",
       "...                ...     ...       ...       ...       ...\n",
       "2021-09-06    2.829600     NaN  2.907600  2.874700  2.807900\n",
       "2021-09-07    2.469600     NaN  2.826700  2.561400  2.456100\n",
       "2021-09-08    2.420400     NaN  2.457200  2.504300  2.396900\n",
       "2021-09-09    2.545200     NaN  2.424200  2.584800  2.496100\n",
       "2021-09-10    2.380600     NaN  2.557800  2.442200  2.369900\n",
       "\n",
       "[851 rows x 5 columns]"
      ]
     },
     "execution_count": 34,
     "metadata": {},
     "output_type": "execute_result"
    }
   ],
   "source": [
    "# Set the file path\n",
    "ada_trading_df = pd.read_csv(\n",
    "    Path(\"./Resources/ADA_Full_Historical_Data.csv\"), index_col=\"Date\", infer_datetime_format=True, parse_dates=True)\n",
    "\n",
    "# Print the DataFrame\n",
    "ada_trading_df = ada_trading_df.sort_values(by='Date')\n",
    "ada_trading_df"
   ]
  },
  {
   "cell_type": "code",
   "execution_count": 35,
   "id": "c2229ff0-ae10-4c94-af8a-fdd084aa2959",
   "metadata": {},
   "outputs": [],
   "source": [
    "# Calculate the daily returns using the closing prices and the pct_change function\n",
    "#ada_trading_df[\"Returns\"] = ada_trading_df[\"Close/Last\"].pct_change()\n",
    "\n",
    "# Display sample data\n",
    "#ada_trading_df.head()"
   ]
  },
  {
   "cell_type": "code",
   "execution_count": 36,
   "id": "246e5e34-02d8-4d56-8341-6caef90a7e07",
   "metadata": {},
   "outputs": [
    {
     "data": {
      "text/html": [
       "<div>\n",
       "<style scoped>\n",
       "    .dataframe tbody tr th:only-of-type {\n",
       "        vertical-align: middle;\n",
       "    }\n",
       "\n",
       "    .dataframe tbody tr th {\n",
       "        vertical-align: top;\n",
       "    }\n",
       "\n",
       "    .dataframe thead th {\n",
       "        text-align: right;\n",
       "    }\n",
       "</style>\n",
       "<table border=\"1\" class=\"dataframe\">\n",
       "  <thead>\n",
       "    <tr style=\"text-align: right;\">\n",
       "      <th></th>\n",
       "      <th>Close/Last</th>\n",
       "      <th>Volume</th>\n",
       "      <th>Open</th>\n",
       "      <th>High</th>\n",
       "      <th>Low</th>\n",
       "    </tr>\n",
       "    <tr>\n",
       "      <th>Date</th>\n",
       "      <th></th>\n",
       "      <th></th>\n",
       "      <th></th>\n",
       "      <th></th>\n",
       "      <th></th>\n",
       "    </tr>\n",
       "  </thead>\n",
       "  <tbody>\n",
       "    <tr>\n",
       "      <th>2019-03-08</th>\n",
       "      <td>0.042399</td>\n",
       "      <td>NaN</td>\n",
       "      <td>0.042747</td>\n",
       "      <td>0.043664</td>\n",
       "      <td>0.042069</td>\n",
       "    </tr>\n",
       "    <tr>\n",
       "      <th>2019-03-09</th>\n",
       "      <td>0.046810</td>\n",
       "      <td>NaN</td>\n",
       "      <td>0.042399</td>\n",
       "      <td>0.047101</td>\n",
       "      <td>0.042347</td>\n",
       "    </tr>\n",
       "    <tr>\n",
       "      <th>2019-03-10</th>\n",
       "      <td>0.045223</td>\n",
       "      <td>NaN</td>\n",
       "      <td>0.043223</td>\n",
       "      <td>0.046878</td>\n",
       "      <td>0.045212</td>\n",
       "    </tr>\n",
       "    <tr>\n",
       "      <th>2019-03-11</th>\n",
       "      <td>0.048309</td>\n",
       "      <td>NaN</td>\n",
       "      <td>0.045523</td>\n",
       "      <td>0.048417</td>\n",
       "      <td>0.044662</td>\n",
       "    </tr>\n",
       "    <tr>\n",
       "      <th>2019-03-12</th>\n",
       "      <td>0.047209</td>\n",
       "      <td>NaN</td>\n",
       "      <td>0.047336</td>\n",
       "      <td>0.048115</td>\n",
       "      <td>0.045702</td>\n",
       "    </tr>\n",
       "  </tbody>\n",
       "</table>\n",
       "</div>"
      ],
      "text/plain": [
       "            Close/Last  Volume      Open      High       Low\n",
       "Date                                                        \n",
       "2019-03-08    0.042399     NaN  0.042747  0.043664  0.042069\n",
       "2019-03-09    0.046810     NaN  0.042399  0.047101  0.042347\n",
       "2019-03-10    0.045223     NaN  0.043223  0.046878  0.045212\n",
       "2019-03-11    0.048309     NaN  0.045523  0.048417  0.044662\n",
       "2019-03-12    0.047209     NaN  0.047336  0.048115  0.045702"
      ]
     },
     "execution_count": 36,
     "metadata": {},
     "output_type": "execute_result"
    }
   ],
   "source": [
    "#ada_trading_df.drop(columns='Volume', index = \"Date\")\n",
    "\n",
    "ada_trading_df.head()"
   ]
  },
  {
   "cell_type": "code",
   "execution_count": 37,
   "id": "dd6e3ede-045c-468f-8759-1f8f3ece1132",
   "metadata": {},
   "outputs": [
    {
     "data": {
      "text/html": [
       "<div>\n",
       "<style scoped>\n",
       "    .dataframe tbody tr th:only-of-type {\n",
       "        vertical-align: middle;\n",
       "    }\n",
       "\n",
       "    .dataframe tbody tr th {\n",
       "        vertical-align: top;\n",
       "    }\n",
       "\n",
       "    .dataframe thead th {\n",
       "        text-align: right;\n",
       "    }\n",
       "</style>\n",
       "<table border=\"1\" class=\"dataframe\">\n",
       "  <thead>\n",
       "    <tr style=\"text-align: right;\">\n",
       "      <th></th>\n",
       "      <th>Close/Last</th>\n",
       "      <th>SMA10</th>\n",
       "      <th>SMA50</th>\n",
       "      <th>Signal</th>\n",
       "      <th>Entry/Exit</th>\n",
       "      <th>Returns</th>\n",
       "    </tr>\n",
       "    <tr>\n",
       "      <th>Date</th>\n",
       "      <th></th>\n",
       "      <th></th>\n",
       "      <th></th>\n",
       "      <th></th>\n",
       "      <th></th>\n",
       "      <th></th>\n",
       "    </tr>\n",
       "  </thead>\n",
       "  <tbody>\n",
       "    <tr>\n",
       "      <th>2019-03-08</th>\n",
       "      <td>0.042399</td>\n",
       "      <td>NaN</td>\n",
       "      <td>NaN</td>\n",
       "      <td>0.0</td>\n",
       "      <td>NaN</td>\n",
       "      <td>NaN</td>\n",
       "    </tr>\n",
       "    <tr>\n",
       "      <th>2019-03-09</th>\n",
       "      <td>0.046810</td>\n",
       "      <td>NaN</td>\n",
       "      <td>NaN</td>\n",
       "      <td>0.0</td>\n",
       "      <td>0.0</td>\n",
       "      <td>0.104035</td>\n",
       "    </tr>\n",
       "    <tr>\n",
       "      <th>2019-03-10</th>\n",
       "      <td>0.045223</td>\n",
       "      <td>NaN</td>\n",
       "      <td>NaN</td>\n",
       "      <td>0.0</td>\n",
       "      <td>0.0</td>\n",
       "      <td>-0.033903</td>\n",
       "    </tr>\n",
       "    <tr>\n",
       "      <th>2019-03-11</th>\n",
       "      <td>0.048309</td>\n",
       "      <td>NaN</td>\n",
       "      <td>NaN</td>\n",
       "      <td>0.0</td>\n",
       "      <td>0.0</td>\n",
       "      <td>0.068240</td>\n",
       "    </tr>\n",
       "    <tr>\n",
       "      <th>2019-03-12</th>\n",
       "      <td>0.047209</td>\n",
       "      <td>NaN</td>\n",
       "      <td>NaN</td>\n",
       "      <td>0.0</td>\n",
       "      <td>0.0</td>\n",
       "      <td>-0.022770</td>\n",
       "    </tr>\n",
       "  </tbody>\n",
       "</table>\n",
       "</div>"
      ],
      "text/plain": [
       "            Close/Last  SMA10  SMA50  Signal  Entry/Exit   Returns\n",
       "Date                                                              \n",
       "2019-03-08    0.042399    NaN    NaN     0.0         NaN       NaN\n",
       "2019-03-09    0.046810    NaN    NaN     0.0         0.0  0.104035\n",
       "2019-03-10    0.045223    NaN    NaN     0.0         0.0 -0.033903\n",
       "2019-03-11    0.048309    NaN    NaN     0.0         0.0  0.068240\n",
       "2019-03-12    0.047209    NaN    NaN     0.0         0.0 -0.022770"
      ]
     },
     "execution_count": 37,
     "metadata": {},
     "output_type": "execute_result"
    }
   ],
   "source": [
    "# Grab just the `date` and `Change %` from the dataset\n",
    "ada_trading_df = ada_trading_df.loc[:, ['Close/Last']].copy()\n",
    "\n",
    "# Set the short window and long windows\n",
    "short_window = 10\n",
    "long_window = 50\n",
    "\n",
    "# Generate the short and long moving averages (10 and 50 days, respectively)\n",
    "ada_trading_df['SMA10'] = ada_trading_df['Close/Last'].rolling(window=short_window).mean()\n",
    "ada_trading_df['SMA50'] = ada_trading_df['Close/Last'].rolling(window=long_window).mean()\n",
    "ada_trading_df['Signal'] = 0.0\n",
    "\n",
    "# Generate the trading signal 0 or 1,\n",
    "# where 0 is when the SMA10 is under the SMA50, and\n",
    "# where 1 is when the SMA10 is higher (or crosses over) the SMA50\n",
    "ada_trading_df['Signal'][short_window:] = np.where(\n",
    "ada_trading_df['SMA10'][short_window:] > ada_trading_df['SMA50'][short_window:], 1.0, 0.0)\n",
    "\n",
    "# Calculate the points in time at which a position should be taken, 1 or -1\n",
    "ada_trading_df['Entry/Exit'] = ada_trading_df['Signal'].diff()\n",
    "\n",
    "# Calculate the daily returns using the closing prices and the pct_change function\n",
    "ada_trading_df[\"Returns\"] = ada_trading_df[\"Close/Last\"].pct_change()\n",
    "\n",
    "# Print the DataFrame\n",
    "ada_trading_df.head()"
   ]
  },
  {
   "cell_type": "code",
   "execution_count": 38,
   "id": "b46da0af-07f7-4222-943f-d2ab929c1808",
   "metadata": {},
   "outputs": [],
   "source": [
    "# Drop the NaNs using dropna()\n",
    "ada_trading_df = ada_trading_df.dropna()"
   ]
  },
  {
   "cell_type": "code",
   "execution_count": 39,
   "id": "9f4359f3-32b6-4560-a5fa-69fce9c78080",
   "metadata": {},
   "outputs": [
    {
     "data": {
      "text/html": [
       "<div>\n",
       "<style scoped>\n",
       "    .dataframe tbody tr th:only-of-type {\n",
       "        vertical-align: middle;\n",
       "    }\n",
       "\n",
       "    .dataframe tbody tr th {\n",
       "        vertical-align: top;\n",
       "    }\n",
       "\n",
       "    .dataframe thead th {\n",
       "        text-align: right;\n",
       "    }\n",
       "</style>\n",
       "<table border=\"1\" class=\"dataframe\">\n",
       "  <thead>\n",
       "    <tr style=\"text-align: right;\">\n",
       "      <th></th>\n",
       "      <th>Close/Last</th>\n",
       "      <th>SMA10</th>\n",
       "      <th>SMA50</th>\n",
       "      <th>Signal</th>\n",
       "      <th>Entry/Exit</th>\n",
       "      <th>Returns</th>\n",
       "    </tr>\n",
       "    <tr>\n",
       "      <th>Date</th>\n",
       "      <th></th>\n",
       "      <th></th>\n",
       "      <th></th>\n",
       "      <th></th>\n",
       "      <th></th>\n",
       "      <th></th>\n",
       "    </tr>\n",
       "  </thead>\n",
       "  <tbody>\n",
       "    <tr>\n",
       "      <th>2019-06-10</th>\n",
       "      <td>0.084501</td>\n",
       "      <td>0.085375</td>\n",
       "      <td>0.073117</td>\n",
       "      <td>1.0</td>\n",
       "      <td>1.0</td>\n",
       "      <td>0.064767</td>\n",
       "    </tr>\n",
       "    <tr>\n",
       "      <th>2019-06-11</th>\n",
       "      <td>0.086861</td>\n",
       "      <td>0.084620</td>\n",
       "      <td>0.074006</td>\n",
       "      <td>1.0</td>\n",
       "      <td>0.0</td>\n",
       "      <td>0.027929</td>\n",
       "    </tr>\n",
       "    <tr>\n",
       "      <th>2019-06-12</th>\n",
       "      <td>0.094145</td>\n",
       "      <td>0.084657</td>\n",
       "      <td>0.074953</td>\n",
       "      <td>1.0</td>\n",
       "      <td>0.0</td>\n",
       "      <td>0.083858</td>\n",
       "    </tr>\n",
       "    <tr>\n",
       "      <th>2019-06-13</th>\n",
       "      <td>0.088936</td>\n",
       "      <td>0.084906</td>\n",
       "      <td>0.075827</td>\n",
       "      <td>1.0</td>\n",
       "      <td>0.0</td>\n",
       "      <td>-0.055330</td>\n",
       "    </tr>\n",
       "    <tr>\n",
       "      <th>2019-06-14</th>\n",
       "      <td>0.091006</td>\n",
       "      <td>0.085743</td>\n",
       "      <td>0.076681</td>\n",
       "      <td>1.0</td>\n",
       "      <td>0.0</td>\n",
       "      <td>0.023275</td>\n",
       "    </tr>\n",
       "  </tbody>\n",
       "</table>\n",
       "</div>"
      ],
      "text/plain": [
       "            Close/Last     SMA10     SMA50  Signal  Entry/Exit   Returns\n",
       "Date                                                                    \n",
       "2019-06-10    0.084501  0.085375  0.073117     1.0         1.0  0.064767\n",
       "2019-06-11    0.086861  0.084620  0.074006     1.0         0.0  0.027929\n",
       "2019-06-12    0.094145  0.084657  0.074953     1.0         0.0  0.083858\n",
       "2019-06-13    0.088936  0.084906  0.075827     1.0         0.0 -0.055330\n",
       "2019-06-14    0.091006  0.085743  0.076681     1.0         0.0  0.023275"
      ]
     },
     "execution_count": 39,
     "metadata": {},
     "output_type": "execute_result"
    }
   ],
   "source": [
    "ada_trading_df.head()"
   ]
  },
  {
   "cell_type": "markdown",
   "id": "a3a04d4e-e21f-4967-aabe-c5e24bf9db5a",
   "metadata": {},
   "source": [
    "# Features / Indicators"
   ]
  },
  {
   "cell_type": "code",
   "execution_count": 40,
   "id": "e02ef21e-4e22-431c-a752-543640c7af83",
   "metadata": {},
   "outputs": [
    {
     "data": {
      "text/html": [
       "<div>\n",
       "<style scoped>\n",
       "    .dataframe tbody tr th:only-of-type {\n",
       "        vertical-align: middle;\n",
       "    }\n",
       "\n",
       "    .dataframe tbody tr th {\n",
       "        vertical-align: top;\n",
       "    }\n",
       "\n",
       "    .dataframe thead th {\n",
       "        text-align: right;\n",
       "    }\n",
       "</style>\n",
       "<table border=\"1\" class=\"dataframe\">\n",
       "  <thead>\n",
       "    <tr style=\"text-align: right;\">\n",
       "      <th></th>\n",
       "      <th>SMA10</th>\n",
       "      <th>SMA50</th>\n",
       "    </tr>\n",
       "    <tr>\n",
       "      <th>Date</th>\n",
       "      <th></th>\n",
       "      <th></th>\n",
       "    </tr>\n",
       "  </thead>\n",
       "  <tbody>\n",
       "    <tr>\n",
       "      <th>2019-06-11</th>\n",
       "      <td>0.085375</td>\n",
       "      <td>0.073117</td>\n",
       "    </tr>\n",
       "    <tr>\n",
       "      <th>2019-06-12</th>\n",
       "      <td>0.084620</td>\n",
       "      <td>0.074006</td>\n",
       "    </tr>\n",
       "    <tr>\n",
       "      <th>2019-06-13</th>\n",
       "      <td>0.084657</td>\n",
       "      <td>0.074953</td>\n",
       "    </tr>\n",
       "    <tr>\n",
       "      <th>2019-06-14</th>\n",
       "      <td>0.084906</td>\n",
       "      <td>0.075827</td>\n",
       "    </tr>\n",
       "    <tr>\n",
       "      <th>2019-06-15</th>\n",
       "      <td>0.085743</td>\n",
       "      <td>0.076681</td>\n",
       "    </tr>\n",
       "  </tbody>\n",
       "</table>\n",
       "</div>"
      ],
      "text/plain": [
       "               SMA10     SMA50\n",
       "Date                          \n",
       "2019-06-11  0.085375  0.073117\n",
       "2019-06-12  0.084620  0.074006\n",
       "2019-06-13  0.084657  0.074953\n",
       "2019-06-14  0.084906  0.075827\n",
       "2019-06-15  0.085743  0.076681"
      ]
     },
     "metadata": {},
     "output_type": "display_data"
    },
    {
     "data": {
      "text/html": [
       "<div>\n",
       "<style scoped>\n",
       "    .dataframe tbody tr th:only-of-type {\n",
       "        vertical-align: middle;\n",
       "    }\n",
       "\n",
       "    .dataframe tbody tr th {\n",
       "        vertical-align: top;\n",
       "    }\n",
       "\n",
       "    .dataframe thead th {\n",
       "        text-align: right;\n",
       "    }\n",
       "</style>\n",
       "<table border=\"1\" class=\"dataframe\">\n",
       "  <thead>\n",
       "    <tr style=\"text-align: right;\">\n",
       "      <th></th>\n",
       "      <th>SMA10</th>\n",
       "      <th>SMA50</th>\n",
       "    </tr>\n",
       "    <tr>\n",
       "      <th>Date</th>\n",
       "      <th></th>\n",
       "      <th></th>\n",
       "    </tr>\n",
       "  </thead>\n",
       "  <tbody>\n",
       "    <tr>\n",
       "      <th>2021-09-06</th>\n",
       "      <td>2.865747</td>\n",
       "      <td>1.947135</td>\n",
       "    </tr>\n",
       "    <tr>\n",
       "      <th>2021-09-07</th>\n",
       "      <td>2.863766</td>\n",
       "      <td>1.980272</td>\n",
       "    </tr>\n",
       "    <tr>\n",
       "      <th>2021-09-08</th>\n",
       "      <td>2.834797</td>\n",
       "      <td>2.008595</td>\n",
       "    </tr>\n",
       "    <tr>\n",
       "      <th>2021-09-09</th>\n",
       "      <td>2.797054</td>\n",
       "      <td>2.035595</td>\n",
       "    </tr>\n",
       "    <tr>\n",
       "      <th>2021-09-10</th>\n",
       "      <td>2.771789</td>\n",
       "      <td>2.063245</td>\n",
       "    </tr>\n",
       "  </tbody>\n",
       "</table>\n",
       "</div>"
      ],
      "text/plain": [
       "               SMA10     SMA50\n",
       "Date                          \n",
       "2021-09-06  2.865747  1.947135\n",
       "2021-09-07  2.863766  1.980272\n",
       "2021-09-08  2.834797  2.008595\n",
       "2021-09-09  2.797054  2.035595\n",
       "2021-09-10  2.771789  2.063245"
      ]
     },
     "metadata": {},
     "output_type": "display_data"
    }
   ],
   "source": [
    "# Assign a copy of the `sma_fast` and `sma_slow` columns to a new DataFrame called `X`\n",
    "X = ada_trading_df[[\"SMA10\", \"SMA50\"]].shift().dropna().copy()\n",
    "\n",
    "# Display sample data\n",
    "display(X.head())\n",
    "display(X.tail())"
   ]
  },
  {
   "cell_type": "markdown",
   "id": "ab1c7907-2ba6-4874-9514-9c184c725607",
   "metadata": {},
   "source": [
    "# Trading Target Signals"
   ]
  },
  {
   "cell_type": "code",
   "execution_count": 41,
   "id": "250b2a48-44f7-4b3c-8d73-b9a24a15a5c3",
   "metadata": {},
   "outputs": [],
   "source": [
    "# Create a new column in the `trading_df` called \"signal\" setting its value to zero.\n",
    "ada_trading_df[\"Signal\"] = 0.0"
   ]
  },
  {
   "cell_type": "code",
   "execution_count": 42,
   "id": "10fbba9b-e0e1-4127-8962-d534309ae940",
   "metadata": {},
   "outputs": [],
   "source": [
    "# Create the signal to buy\n",
    "ada_trading_df.loc[(ada_trading_df[\"Returns\"] >= 0), \"Signal\"] = 1"
   ]
  },
  {
   "cell_type": "code",
   "execution_count": 43,
   "id": "ab3b472b-bcd0-4fe6-8e2c-6af1712a0874",
   "metadata": {},
   "outputs": [],
   "source": [
    "# Create the signal to sell\n",
    "ada_trading_df.loc[(ada_trading_df[\"Returns\"] < 0), \"Signal\"] = -1"
   ]
  },
  {
   "cell_type": "code",
   "execution_count": 44,
   "id": "fb1cbe11-fe41-4a45-b6b4-d0c1fb36dd6c",
   "metadata": {},
   "outputs": [],
   "source": [
    "# Copy the new \"signal\" column to a new Series called `y`.\n",
    "y = ada_trading_df[\"Signal\"].copy()"
   ]
  },
  {
   "cell_type": "code",
   "execution_count": 45,
   "id": "cb8f5b12-94b5-4056-aa4f-fcb7eb2b1d96",
   "metadata": {},
   "outputs": [
    {
     "data": {
      "text/html": [
       "<div>\n",
       "<style scoped>\n",
       "    .dataframe tbody tr th:only-of-type {\n",
       "        vertical-align: middle;\n",
       "    }\n",
       "\n",
       "    .dataframe tbody tr th {\n",
       "        vertical-align: top;\n",
       "    }\n",
       "\n",
       "    .dataframe thead th {\n",
       "        text-align: right;\n",
       "    }\n",
       "</style>\n",
       "<table border=\"1\" class=\"dataframe\">\n",
       "  <thead>\n",
       "    <tr style=\"text-align: right;\">\n",
       "      <th></th>\n",
       "      <th>Close/Last</th>\n",
       "      <th>SMA10</th>\n",
       "      <th>SMA50</th>\n",
       "      <th>Signal</th>\n",
       "      <th>Entry/Exit</th>\n",
       "      <th>Returns</th>\n",
       "    </tr>\n",
       "    <tr>\n",
       "      <th>Date</th>\n",
       "      <th></th>\n",
       "      <th></th>\n",
       "      <th></th>\n",
       "      <th></th>\n",
       "      <th></th>\n",
       "      <th></th>\n",
       "    </tr>\n",
       "  </thead>\n",
       "  <tbody>\n",
       "    <tr>\n",
       "      <th>2019-06-10</th>\n",
       "      <td>0.084501</td>\n",
       "      <td>0.085375</td>\n",
       "      <td>0.073117</td>\n",
       "      <td>1.0</td>\n",
       "      <td>1.0</td>\n",
       "      <td>0.064767</td>\n",
       "    </tr>\n",
       "    <tr>\n",
       "      <th>2019-06-11</th>\n",
       "      <td>0.086861</td>\n",
       "      <td>0.084620</td>\n",
       "      <td>0.074006</td>\n",
       "      <td>1.0</td>\n",
       "      <td>0.0</td>\n",
       "      <td>0.027929</td>\n",
       "    </tr>\n",
       "    <tr>\n",
       "      <th>2019-06-12</th>\n",
       "      <td>0.094145</td>\n",
       "      <td>0.084657</td>\n",
       "      <td>0.074953</td>\n",
       "      <td>1.0</td>\n",
       "      <td>0.0</td>\n",
       "      <td>0.083858</td>\n",
       "    </tr>\n",
       "    <tr>\n",
       "      <th>2019-06-13</th>\n",
       "      <td>0.088936</td>\n",
       "      <td>0.084906</td>\n",
       "      <td>0.075827</td>\n",
       "      <td>-1.0</td>\n",
       "      <td>0.0</td>\n",
       "      <td>-0.055330</td>\n",
       "    </tr>\n",
       "    <tr>\n",
       "      <th>2019-06-14</th>\n",
       "      <td>0.091006</td>\n",
       "      <td>0.085743</td>\n",
       "      <td>0.076681</td>\n",
       "      <td>1.0</td>\n",
       "      <td>0.0</td>\n",
       "      <td>0.023275</td>\n",
       "    </tr>\n",
       "    <tr>\n",
       "      <th>2019-06-15</th>\n",
       "      <td>0.091615</td>\n",
       "      <td>0.086653</td>\n",
       "      <td>0.077569</td>\n",
       "      <td>1.0</td>\n",
       "      <td>0.0</td>\n",
       "      <td>0.006692</td>\n",
       "    </tr>\n",
       "    <tr>\n",
       "      <th>2019-06-16</th>\n",
       "      <td>0.092265</td>\n",
       "      <td>0.087614</td>\n",
       "      <td>0.078487</td>\n",
       "      <td>1.0</td>\n",
       "      <td>0.0</td>\n",
       "      <td>0.007095</td>\n",
       "    </tr>\n",
       "    <tr>\n",
       "      <th>2019-06-17</th>\n",
       "      <td>0.092699</td>\n",
       "      <td>0.088395</td>\n",
       "      <td>0.079391</td>\n",
       "      <td>1.0</td>\n",
       "      <td>0.0</td>\n",
       "      <td>0.004704</td>\n",
       "    </tr>\n",
       "    <tr>\n",
       "      <th>2019-06-18</th>\n",
       "      <td>0.089909</td>\n",
       "      <td>0.089130</td>\n",
       "      <td>0.080192</td>\n",
       "      <td>-1.0</td>\n",
       "      <td>0.0</td>\n",
       "      <td>-0.030097</td>\n",
       "    </tr>\n",
       "    <tr>\n",
       "      <th>2019-06-19</th>\n",
       "      <td>0.088391</td>\n",
       "      <td>0.090033</td>\n",
       "      <td>0.080942</td>\n",
       "      <td>-1.0</td>\n",
       "      <td>0.0</td>\n",
       "      <td>-0.016884</td>\n",
       "    </tr>\n",
       "  </tbody>\n",
       "</table>\n",
       "</div>"
      ],
      "text/plain": [
       "            Close/Last     SMA10     SMA50  Signal  Entry/Exit   Returns\n",
       "Date                                                                    \n",
       "2019-06-10    0.084501  0.085375  0.073117     1.0         1.0  0.064767\n",
       "2019-06-11    0.086861  0.084620  0.074006     1.0         0.0  0.027929\n",
       "2019-06-12    0.094145  0.084657  0.074953     1.0         0.0  0.083858\n",
       "2019-06-13    0.088936  0.084906  0.075827    -1.0         0.0 -0.055330\n",
       "2019-06-14    0.091006  0.085743  0.076681     1.0         0.0  0.023275\n",
       "2019-06-15    0.091615  0.086653  0.077569     1.0         0.0  0.006692\n",
       "2019-06-16    0.092265  0.087614  0.078487     1.0         0.0  0.007095\n",
       "2019-06-17    0.092699  0.088395  0.079391     1.0         0.0  0.004704\n",
       "2019-06-18    0.089909  0.089130  0.080192    -1.0         0.0 -0.030097\n",
       "2019-06-19    0.088391  0.090033  0.080942    -1.0         0.0 -0.016884"
      ]
     },
     "execution_count": 45,
     "metadata": {},
     "output_type": "execute_result"
    }
   ],
   "source": [
    "ada_trading_df.head(10)"
   ]
  },
  {
   "cell_type": "markdown",
   "id": "185e6e22-f9ef-4949-ab49-602fdfec6dd0",
   "metadata": {},
   "source": [
    "# Split Data into testing & training sets"
   ]
  },
  {
   "cell_type": "code",
   "execution_count": 46,
   "id": "1c6c1830-2b6c-43be-82d1-8b74118d3902",
   "metadata": {},
   "outputs": [],
   "source": [
    "# Import required libraries\n",
    "from pandas.tseries.offsets import DateOffset"
   ]
  },
  {
   "cell_type": "code",
   "execution_count": 47,
   "id": "8aed34da-5edd-448a-9951-54afc7b5071a",
   "metadata": {},
   "outputs": [
    {
     "name": "stdout",
     "output_type": "stream",
     "text": [
      "2019-06-11 00:00:00\n"
     ]
    }
   ],
   "source": [
    "# Select the start of the training period\n",
    "training_begin = X.index.min()\n",
    "\n",
    "# Display the training begin date\n",
    "print(training_begin)"
   ]
  },
  {
   "cell_type": "code",
   "execution_count": 55,
   "id": "a5ab4a4c-1fff-472f-8f0d-899205ae25a7",
   "metadata": {},
   "outputs": [
    {
     "name": "stdout",
     "output_type": "stream",
     "text": [
      "2020-12-11 00:00:00\n"
     ]
    }
   ],
   "source": [
    "# Select the ending period for the training data with an offset of 3 months\n",
    "training_end = X.index.min() + DateOffset(months=18)\n",
    "\n",
    "# Display the training end date\n",
    "print(training_end)"
   ]
  },
  {
   "cell_type": "code",
   "execution_count": 56,
   "id": "bc0273a6-8cd9-4bf7-b5cc-8ae502c25626",
   "metadata": {},
   "outputs": [],
   "source": [
    "# Generate the X_train and y_train DataFrames\n",
    "X_train = X.loc[training_begin:training_end]\n",
    "y_train = y.loc[training_begin:training_end]"
   ]
  },
  {
   "cell_type": "code",
   "execution_count": 57,
   "id": "cd187e6c-7059-41ef-9714-2a57782684cf",
   "metadata": {},
   "outputs": [],
   "source": [
    "# Generate the X_test and y_test DataFrames\n",
    "X_test = X.loc[training_end:]\n",
    "y_test = y.loc[training_end:]"
   ]
  },
  {
   "cell_type": "markdown",
   "id": "d48b19c4-c3f4-44e9-8886-2da1a2c113b6",
   "metadata": {},
   "source": [
    "## Standardize the Data"
   ]
  },
  {
   "cell_type": "code",
   "execution_count": 58,
   "id": "d3e22e86-7863-45a0-8fa9-d911a15ba20b",
   "metadata": {},
   "outputs": [],
   "source": [
    "from sklearn.preprocessing import StandardScaler"
   ]
  },
  {
   "cell_type": "code",
   "execution_count": 59,
   "id": "8f6d8eff-133f-46f9-9187-61922665c77c",
   "metadata": {},
   "outputs": [
    {
     "data": {
      "text/html": [
       "<div>\n",
       "<style scoped>\n",
       "    .dataframe tbody tr th:only-of-type {\n",
       "        vertical-align: middle;\n",
       "    }\n",
       "\n",
       "    .dataframe tbody tr th {\n",
       "        vertical-align: top;\n",
       "    }\n",
       "\n",
       "    .dataframe thead th {\n",
       "        text-align: right;\n",
       "    }\n",
       "</style>\n",
       "<table border=\"1\" class=\"dataframe\">\n",
       "  <thead>\n",
       "    <tr style=\"text-align: right;\">\n",
       "      <th></th>\n",
       "      <th>SMA10</th>\n",
       "      <th>SMA50</th>\n",
       "    </tr>\n",
       "    <tr>\n",
       "      <th>Date</th>\n",
       "      <th></th>\n",
       "      <th></th>\n",
       "    </tr>\n",
       "  </thead>\n",
       "  <tbody>\n",
       "    <tr>\n",
       "      <th>2019-06-11</th>\n",
       "      <td>0.085375</td>\n",
       "      <td>0.073117</td>\n",
       "    </tr>\n",
       "    <tr>\n",
       "      <th>2019-06-12</th>\n",
       "      <td>0.084620</td>\n",
       "      <td>0.074006</td>\n",
       "    </tr>\n",
       "    <tr>\n",
       "      <th>2019-06-13</th>\n",
       "      <td>0.084657</td>\n",
       "      <td>0.074953</td>\n",
       "    </tr>\n",
       "    <tr>\n",
       "      <th>2019-06-14</th>\n",
       "      <td>0.084906</td>\n",
       "      <td>0.075827</td>\n",
       "    </tr>\n",
       "    <tr>\n",
       "      <th>2019-06-15</th>\n",
       "      <td>0.085743</td>\n",
       "      <td>0.076681</td>\n",
       "    </tr>\n",
       "  </tbody>\n",
       "</table>\n",
       "</div>"
      ],
      "text/plain": [
       "               SMA10     SMA50\n",
       "Date                          \n",
       "2019-06-11  0.085375  0.073117\n",
       "2019-06-12  0.084620  0.074006\n",
       "2019-06-13  0.084657  0.074953\n",
       "2019-06-14  0.084906  0.075827\n",
       "2019-06-15  0.085743  0.076681"
      ]
     },
     "execution_count": 59,
     "metadata": {},
     "output_type": "execute_result"
    }
   ],
   "source": [
    "X_train.head()"
   ]
  },
  {
   "cell_type": "code",
   "execution_count": 60,
   "id": "4862a017-51eb-468c-865e-eb4f87d8a3d6",
   "metadata": {},
   "outputs": [
    {
     "data": {
      "text/html": [
       "<div>\n",
       "<style scoped>\n",
       "    .dataframe tbody tr th:only-of-type {\n",
       "        vertical-align: middle;\n",
       "    }\n",
       "\n",
       "    .dataframe tbody tr th {\n",
       "        vertical-align: top;\n",
       "    }\n",
       "\n",
       "    .dataframe thead th {\n",
       "        text-align: right;\n",
       "    }\n",
       "</style>\n",
       "<table border=\"1\" class=\"dataframe\">\n",
       "  <thead>\n",
       "    <tr style=\"text-align: right;\">\n",
       "      <th></th>\n",
       "      <th>SMA10</th>\n",
       "      <th>SMA50</th>\n",
       "    </tr>\n",
       "    <tr>\n",
       "      <th>Date</th>\n",
       "      <th></th>\n",
       "      <th></th>\n",
       "    </tr>\n",
       "  </thead>\n",
       "  <tbody>\n",
       "    <tr>\n",
       "      <th>2020-12-11</th>\n",
       "      <td>0.151606</td>\n",
       "      <td>0.122795</td>\n",
       "    </tr>\n",
       "    <tr>\n",
       "      <th>2020-12-12</th>\n",
       "      <td>0.150924</td>\n",
       "      <td>0.123487</td>\n",
       "    </tr>\n",
       "    <tr>\n",
       "      <th>2020-12-13</th>\n",
       "      <td>0.149603</td>\n",
       "      <td>0.124199</td>\n",
       "    </tr>\n",
       "    <tr>\n",
       "      <th>2020-12-14</th>\n",
       "      <td>0.148688</td>\n",
       "      <td>0.125055</td>\n",
       "    </tr>\n",
       "    <tr>\n",
       "      <th>2020-12-15</th>\n",
       "      <td>0.149017</td>\n",
       "      <td>0.126058</td>\n",
       "    </tr>\n",
       "  </tbody>\n",
       "</table>\n",
       "</div>"
      ],
      "text/plain": [
       "               SMA10     SMA50\n",
       "Date                          \n",
       "2020-12-11  0.151606  0.122795\n",
       "2020-12-12  0.150924  0.123487\n",
       "2020-12-13  0.149603  0.124199\n",
       "2020-12-14  0.148688  0.125055\n",
       "2020-12-15  0.149017  0.126058"
      ]
     },
     "execution_count": 60,
     "metadata": {},
     "output_type": "execute_result"
    }
   ],
   "source": [
    "# show x_test data\n",
    "\n",
    "X_test.head()"
   ]
  },
  {
   "cell_type": "code",
   "execution_count": 62,
   "id": "e870ddf8-3304-4e43-adac-2c0cbbce365a",
   "metadata": {},
   "outputs": [],
   "source": [
    "# Create a StandardScaler instance\n",
    "scaler = StandardScaler()\n",
    "\n",
    "# Apply the scaler model to fit the X-train data\n",
    "X_scaler = scaler.fit(X_train)\n",
    "\n",
    "# Transform the X_train and X_test DataFrames using the X_scaler\n",
    "X_train_scaled = X_scaler.transform(X_train)\n",
    "X_test_scaled = X_scaler.transform(X_test)"
   ]
  },
  {
   "cell_type": "markdown",
   "id": "03f22246-8a3e-4def-ae05-d091fa07fee6",
   "metadata": {},
   "source": [
    "# Machine Learning Methods"
   ]
  },
  {
   "cell_type": "markdown",
   "id": "745bd456-43f4-443d-a817-b3a7b389b923",
   "metadata": {},
   "source": [
    "# SVM"
   ]
  },
  {
   "cell_type": "code",
   "execution_count": 63,
   "id": "0b308463-349d-4764-9136-2433bb64c990",
   "metadata": {},
   "outputs": [],
   "source": [
    "# Initialize Imports\n",
    "from sklearn import svm\n",
    "from sklearn.metrics import classification_report"
   ]
  },
  {
   "cell_type": "code",
   "execution_count": 64,
   "id": "f6da20dd-973a-49b8-9187-914ed3555b99",
   "metadata": {},
   "outputs": [
    {
     "data": {
      "text/plain": [
       "array([-1., -1., -1., -1., -1., -1., -1., -1., -1., -1.])"
      ]
     },
     "execution_count": 64,
     "metadata": {},
     "output_type": "execute_result"
    }
   ],
   "source": [
    "# Create the classifier model\n",
    "svm_model = svm.SVC()\n",
    " \n",
    "# Fit the model to the data using X_train_scaled and y_train\n",
    "svm_model = svm_model.fit(X_train_scaled, y_train)\n",
    "\n",
    "# Use the trained model to predict the trading signals for the training data\n",
    "training_signal_predictions = svm_model.predict(X_train_scaled)\n",
    "\n",
    "# Display the sample predictions\n",
    "training_signal_predictions[:10]"
   ]
  },
  {
   "cell_type": "code",
   "execution_count": 65,
   "id": "3bea57f4-e94e-4e6f-85bf-2f6c0c2235e6",
   "metadata": {},
   "outputs": [
    {
     "name": "stdout",
     "output_type": "stream",
     "text": [
      "              precision    recall  f1-score   support\n",
      "\n",
      "        -1.0       0.56      0.39      0.46       258\n",
      "         1.0       0.55      0.71      0.62       270\n",
      "\n",
      "    accuracy                           0.55       528\n",
      "   macro avg       0.56      0.55      0.54       528\n",
      "weighted avg       0.56      0.55      0.54       528\n",
      "\n"
     ]
    }
   ],
   "source": [
    "#Evaluating the model\n",
    "\n",
    "svm_report = classification_report(y_train, training_signal_predictions)\n",
    "print(svm_report)"
   ]
  },
  {
   "cell_type": "code",
   "execution_count": 66,
   "id": "3c035230-e3c2-45d9-9fbf-b2a17d637a81",
   "metadata": {},
   "outputs": [
    {
     "name": "stdout",
     "output_type": "stream",
     "text": [
      "              precision    recall  f1-score   support\n",
      "\n",
      "        -1.0       0.00      0.00      0.00       126\n",
      "         1.0       0.54      1.00      0.70       148\n",
      "\n",
      "    accuracy                           0.54       274\n",
      "   macro avg       0.27      0.50      0.35       274\n",
      "weighted avg       0.29      0.54      0.38       274\n",
      "\n"
     ]
    },
    {
     "name": "stderr",
     "output_type": "stream",
     "text": [
      "C:\\Users\\ADMIN\\Anaconda3\\envs\\algotrading\\lib\\site-packages\\sklearn\\metrics\\_classification.py:1245: UndefinedMetricWarning: Precision and F-score are ill-defined and being set to 0.0 in labels with no predicted samples. Use `zero_division` parameter to control this behavior.\n",
      "  _warn_prf(average, modifier, msg_start, len(result))\n",
      "C:\\Users\\ADMIN\\Anaconda3\\envs\\algotrading\\lib\\site-packages\\sklearn\\metrics\\_classification.py:1245: UndefinedMetricWarning: Precision and F-score are ill-defined and being set to 0.0 in labels with no predicted samples. Use `zero_division` parameter to control this behavior.\n",
      "  _warn_prf(average, modifier, msg_start, len(result))\n",
      "C:\\Users\\ADMIN\\Anaconda3\\envs\\algotrading\\lib\\site-packages\\sklearn\\metrics\\_classification.py:1245: UndefinedMetricWarning: Precision and F-score are ill-defined and being set to 0.0 in labels with no predicted samples. Use `zero_division` parameter to control this behavior.\n",
      "  _warn_prf(average, modifier, msg_start, len(result))\n"
     ]
    }
   ],
   "source": [
    "# Using the trained model to predict the trading signals for the testing data.\n",
    "testing_signal_predictions = svm_model.predict(X_test_scaled)\n",
    "\n",
    "# Evaluating the model's ability to predict the trading signal for the testing data\n",
    "svm_testing_report = classification_report(y_test, testing_signal_predictions)\n",
    "print(svm_testing_report)"
   ]
  },
  {
   "cell_type": "code",
   "execution_count": 67,
   "id": "78dc7f86-7c33-45b6-9563-82eb10a4e846",
   "metadata": {},
   "outputs": [
    {
     "data": {
      "text/html": [
       "<div>\n",
       "<style scoped>\n",
       "    .dataframe tbody tr th:only-of-type {\n",
       "        vertical-align: middle;\n",
       "    }\n",
       "\n",
       "    .dataframe tbody tr th {\n",
       "        vertical-align: top;\n",
       "    }\n",
       "\n",
       "    .dataframe thead th {\n",
       "        text-align: right;\n",
       "    }\n",
       "</style>\n",
       "<table border=\"1\" class=\"dataframe\">\n",
       "  <thead>\n",
       "    <tr style=\"text-align: right;\">\n",
       "      <th></th>\n",
       "      <th>Predicted_Signal</th>\n",
       "      <th>Actual_Returns</th>\n",
       "      <th>Trading_Algorithm_Returns</th>\n",
       "    </tr>\n",
       "    <tr>\n",
       "      <th>Date</th>\n",
       "      <th></th>\n",
       "      <th></th>\n",
       "      <th></th>\n",
       "    </tr>\n",
       "  </thead>\n",
       "  <tbody>\n",
       "    <tr>\n",
       "      <th>2020-12-11</th>\n",
       "      <td>1.0</td>\n",
       "      <td>0.051010</td>\n",
       "      <td>0.051010</td>\n",
       "    </tr>\n",
       "    <tr>\n",
       "      <th>2020-12-12</th>\n",
       "      <td>1.0</td>\n",
       "      <td>-0.009236</td>\n",
       "      <td>-0.009236</td>\n",
       "    </tr>\n",
       "    <tr>\n",
       "      <th>2020-12-13</th>\n",
       "      <td>1.0</td>\n",
       "      <td>0.045974</td>\n",
       "      <td>0.045974</td>\n",
       "    </tr>\n",
       "    <tr>\n",
       "      <th>2020-12-14</th>\n",
       "      <td>1.0</td>\n",
       "      <td>0.039596</td>\n",
       "      <td>0.039596</td>\n",
       "    </tr>\n",
       "    <tr>\n",
       "      <th>2020-12-15</th>\n",
       "      <td>1.0</td>\n",
       "      <td>-0.040375</td>\n",
       "      <td>-0.040375</td>\n",
       "    </tr>\n",
       "    <tr>\n",
       "      <th>...</th>\n",
       "      <td>...</td>\n",
       "      <td>...</td>\n",
       "      <td>...</td>\n",
       "    </tr>\n",
       "    <tr>\n",
       "      <th>2021-09-06</th>\n",
       "      <td>1.0</td>\n",
       "      <td>-0.022226</td>\n",
       "      <td>-0.022226</td>\n",
       "    </tr>\n",
       "    <tr>\n",
       "      <th>2021-09-07</th>\n",
       "      <td>1.0</td>\n",
       "      <td>-0.127226</td>\n",
       "      <td>-0.127226</td>\n",
       "    </tr>\n",
       "    <tr>\n",
       "      <th>2021-09-08</th>\n",
       "      <td>1.0</td>\n",
       "      <td>-0.019922</td>\n",
       "      <td>-0.019922</td>\n",
       "    </tr>\n",
       "    <tr>\n",
       "      <th>2021-09-09</th>\n",
       "      <td>1.0</td>\n",
       "      <td>0.051562</td>\n",
       "      <td>0.051562</td>\n",
       "    </tr>\n",
       "    <tr>\n",
       "      <th>2021-09-10</th>\n",
       "      <td>1.0</td>\n",
       "      <td>-0.064671</td>\n",
       "      <td>-0.064671</td>\n",
       "    </tr>\n",
       "  </tbody>\n",
       "</table>\n",
       "<p>274 rows × 3 columns</p>\n",
       "</div>"
      ],
      "text/plain": [
       "            Predicted_Signal  Actual_Returns  Trading_Algorithm_Returns\n",
       "Date                                                                   \n",
       "2020-12-11               1.0        0.051010                   0.051010\n",
       "2020-12-12               1.0       -0.009236                  -0.009236\n",
       "2020-12-13               1.0        0.045974                   0.045974\n",
       "2020-12-14               1.0        0.039596                   0.039596\n",
       "2020-12-15               1.0       -0.040375                  -0.040375\n",
       "...                      ...             ...                        ...\n",
       "2021-09-06               1.0       -0.022226                  -0.022226\n",
       "2021-09-07               1.0       -0.127226                  -0.127226\n",
       "2021-09-08               1.0       -0.019922                  -0.019922\n",
       "2021-09-09               1.0        0.051562                   0.051562\n",
       "2021-09-10               1.0       -0.064671                  -0.064671\n",
       "\n",
       "[274 rows x 3 columns]"
      ]
     },
     "execution_count": 67,
     "metadata": {},
     "output_type": "execute_result"
    }
   ],
   "source": [
    "# Creating a new empty predictions DataFrame using code provided below.\n",
    "\n",
    "predictions_df = pd.DataFrame(index=X_test.index)\n",
    "predictions_df[\"Predicted_Signal\"] = testing_signal_predictions\n",
    "predictions_df[\"Actual_Returns\"] = ada_trading_df[\"Returns\"]\n",
    "predictions_df[\"Trading_Algorithm_Returns\"] = predictions_df[\"Actual_Returns\"] * predictions_df[\"Predicted_Signal\"]\n",
    "predictions_df"
   ]
  },
  {
   "cell_type": "code",
   "execution_count": 68,
   "id": "3543320f-2086-464b-853d-f6975783614a",
   "metadata": {},
   "outputs": [
    {
     "data": {
      "text/plain": [
       "<AxesSubplot:xlabel='Date'>"
      ]
     },
     "execution_count": 68,
     "metadata": {},
     "output_type": "execute_result"
    },
    {
     "data": {
      "image/png": "[encoded data removed]",
      "text/plain": [
       "<Figure size 432x288 with 1 Axes>"
      ]
     },
     "metadata": {
      "needs_background": "light"
     },
     "output_type": "display_data"
    }
   ],
   "source": [
    "\n",
    "# Calculate and plot the cumulative returns for the `actual_returns` and the `trading_algorithm_returns`\n",
    "(1 + predictions_df[[\"Actual_Returns\", \"Trading_Algorithm_Returns\"]]).cumprod().plot()"
   ]
  },
  {
   "cell_type": "code",
   "execution_count": null,
   "id": "6f053b24-d764-4b48-91d1-3a7025aec2fb",
   "metadata": {},
   "outputs": [],
   "source": []
  },
  {
   "cell_type": "code",
   "execution_count": null,
   "id": "b9bcd077-b7e7-4927-87be-1aa316addfb9",
   "metadata": {},
   "outputs": [],
   "source": []
  },
  {
   "cell_type": "markdown",
   "id": "a2894e31-e0ba-4f02-8091-00e091b50b5a",
   "metadata": {},
   "source": [
    "# API AND LIVE TRADING"
   ]
  },
  {
   "cell_type": "code",
   "execution_count": 29,
   "id": "73b25144-3991-4b52-96a5-7bf1bc7ba37b",
   "metadata": {},
   "outputs": [],
   "source": [
    "# ignor .env file on github to secure our keys"
   ]
  },
  {
   "cell_type": "code",
   "execution_count": 30,
   "id": "a8e24c52-6ee5-4150-8255-5b12f64bca14",
   "metadata": {},
   "outputs": [
    {
     "ename": "ModuleNotFoundError",
     "evalue": "No module named 'alpaca_trade_api'",
     "output_type": "error",
     "traceback": [
      "\u001b[1;31m---------------------------------------------------------------------------\u001b[0m",
      "\u001b[1;31mModuleNotFoundError\u001b[0m                       Traceback (most recent call last)",
      "\u001b[1;32m<ipython-input-30-049b9088c329>\u001b[0m in \u001b[0;36m<module>\u001b[1;34m\u001b[0m\n\u001b[1;32m----> 1\u001b[1;33m \u001b[1;32mimport\u001b[0m \u001b[0malpaca_trade_api\u001b[0m \u001b[1;32mas\u001b[0m \u001b[0mtradeapi\u001b[0m\u001b[1;33m\u001b[0m\u001b[1;33m\u001b[0m\u001b[0m\n\u001b[0m\u001b[0;32m      2\u001b[0m \u001b[1;33m\u001b[0m\u001b[0m\n\u001b[0;32m      3\u001b[0m \u001b[0mAPI_KEY\u001b[0m \u001b[1;33m=\u001b[0m \u001b[0mos\u001b[0m\u001b[1;33m.\u001b[0m\u001b[0mgetenv\u001b[0m\u001b[1;33m(\u001b[0m\u001b[1;34m\"ALPACA_API_KEY\"\u001b[0m\u001b[1;33m)\u001b[0m\u001b[1;33m\u001b[0m\u001b[1;33m\u001b[0m\u001b[0m\n\u001b[0;32m      4\u001b[0m \u001b[0mAPI_SECRET\u001b[0m \u001b[1;33m=\u001b[0m \u001b[0mos\u001b[0m\u001b[1;33m.\u001b[0m\u001b[0mgetenv\u001b[0m\u001b[1;33m(\u001b[0m\u001b[1;34m\"ALPACA_SECRET_KEY\"\u001b[0m\u001b[1;33m)\u001b[0m\u001b[1;33m\u001b[0m\u001b[1;33m\u001b[0m\u001b[0m\n\u001b[0;32m      5\u001b[0m \u001b[0mALPACA_API_BASE_URL\u001b[0m \u001b[1;33m=\u001b[0m \u001b[1;34m\"https://paper-api.alpaca.markets\"\u001b[0m\u001b[1;33m\u001b[0m\u001b[1;33m\u001b[0m\u001b[0m\n",
      "\u001b[1;31mModuleNotFoundError\u001b[0m: No module named 'alpaca_trade_api'"
     ]
    }
   ],
   "source": [
    "import alpaca_trade_api as tradeapi\n",
    "\n",
    "API_KEY = os.getenv(\"ALPACA_API_KEY\")\n",
    "API_SECRET = os.getenv(\"ALPACA_SECRET_KEY\")\n",
    "ALPACA_API_BASE_URL = \"https://paper-api.alpaca.markets\""
   ]
  },
  {
   "cell_type": "code",
   "execution_count": null,
   "id": "107d43c1-fb4c-48f6-9c8b-16fcadda45f4",
   "metadata": {},
   "outputs": [],
   "source": [
    "# Create a connection to the API \n",
    "api = tradeapi.REST(API_KEY, API_SECRET, ALPACA_API_BASE_URL, api_version=\"v2\")"
   ]
  },
  {
   "cell_type": "code",
   "execution_count": null,
   "id": "883af480-a414-4af3-8987-371bec6f9a82",
   "metadata": {},
   "outputs": [],
   "source": [
    "# Set signal variable\n",
    "signal = 1"
   ]
  },
  {
   "cell_type": "code",
   "execution_count": null,
   "id": "a812af7a-24bb-4fed-8512-b73bada96b0e",
   "metadata": {},
   "outputs": [],
   "source": [
    "# Create buy signal, num shares and ticker\n",
    "if signal == 1:\n",
    "    orderSide = \"buy\"\n",
    "else:\n",
    "    orderSide = \"sell\""
   ]
  },
  {
   "cell_type": "code",
   "execution_count": null,
   "id": "1d945b16-db0c-4cd4-8fcb-a562c29ec6eb",
   "metadata": {},
   "outputs": [],
   "source": [
    "# Set the ticket symbol and the number of shares to buy\n",
    "ticker = \"ADA\"\n",
    "number_of_coins = 100"
   ]
  },
  {
   "cell_type": "code",
   "execution_count": null,
   "id": "9013dae5-b9b8-4118-9f7a-2d220781425d",
   "metadata": {},
   "outputs": [],
   "source": [
    "# Get final closing price\n",
    "prices = api.get_barset(ticker, \"5Min\").df\n",
    "limit_amount = prices[\"ADA\"][\"Close\"][-1]"
   ]
  },
  {
   "cell_type": "code",
   "execution_count": null,
   "id": "3903f2cb-7284-4caa-a068-48bf38823bd3",
   "metadata": {},
   "outputs": [],
   "source": [
    "# Submit order\n",
    "# add a stop loss and a trailing stop\n",
    "\n",
    "api.submit_order(\n",
    "    ticker = \"ADA\", \n",
    "    qty = number_of_shares, \n",
    "    side = orderSide, \n",
    "    time_in_force = \"gtc\", #good til cancel\n",
    "    type = \"limit\", \n",
    "    limit_price = limit_amount\n",
    ")"
   ]
  },
  {
   "cell_type": "code",
   "execution_count": null,
   "id": "f78534c2-37cf-4ffa-a171-b7e911ab0a53",
   "metadata": {},
   "outputs": [],
   "source": []
  }
 ],
 "metadata": {
  "kernelspec": {
   "display_name": "Python 3",
   "language": "python",
   "name": "python3"
  },
  "language_info": {
   "codemirror_mode": {
    "name": "ipython",
    "version": 3
   },
   "file_extension": ".py",
   "mimetype": "text/x-python",
   "name": "python",
   "nbconvert_exporter": "python",
   "pygments_lexer": "ipython3",
   "version": "3.7.10"
  }
 },
 "nbformat": 4,
 "nbformat_minor": 5
}
