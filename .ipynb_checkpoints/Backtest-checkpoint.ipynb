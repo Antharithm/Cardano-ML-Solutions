{
 "cells": [
  {
   "cell_type": "markdown",
   "id": "dcd8c4c3-f700-45e4-ba26-5a2d3d84095a",
   "metadata": {},
   "source": [
    "Backtest ALL Historical ADA Data"
   ]
  },
  {
   "cell_type": "code",
   "execution_count": 12,
   "id": "cc92c56d-14be-4447-bfa0-cd93a9beeb2d",
   "metadata": {},
   "outputs": [],
   "source": [
    "# Evaluations to look for (make these into slides and show results)\n",
    "\n",
    "# Cumulative return (total amount of gains and losses for an investment measured across time)\n",
    "# Annual Return (time weighted annual % that shows the return of an investment)\n",
    "# Annual Volatility \n",
    "# Sharpe Ratio (the return relative to volatility, higher number = better, standard deviation is the risk metric)\n",
    "# Downside Deviation / Return (the measure of risk for returns that are below the min. acceptable return)\n",
    "# Sortino Ratio (quotient of expected return, focused on downside deviation rather than standard deviation)"
   ]
  },
  {
   "cell_type": "markdown",
   "id": "ececaa71-6e09-4507-9c88-2c2ec9ecb63b",
   "metadata": {},
   "source": [
    "### Import Libraries and Dependencies"
   ]
  },
  {
   "cell_type": "code",
   "execution_count": 13,
   "id": "81c4eca9-85f3-4294-b335-62f0da748c69",
   "metadata": {},
   "outputs": [],
   "source": [
    "# Import libraries and dependencies\n",
    "import numpy as np\n",
    "import pandas as pd\n",
    "import hvplot.pandas\n",
    "from pathlib import Path"
   ]
  },
  {
   "cell_type": "markdown",
   "id": "5fad99a6-64de-4fb3-801f-66eefe5f314a",
   "metadata": {},
   "source": [
    "### Read CSV into Pandas DataFrame"
   ]
  },
  {
   "cell_type": "code",
   "execution_count": 18,
   "id": "9d450b3a-33dd-4f29-9271-66b048ae6639",
   "metadata": {},
   "outputs": [
    {
     "data": {
      "text/html": [
       "<div>\n",
       "<style scoped>\n",
       "    .dataframe tbody tr th:only-of-type {\n",
       "        vertical-align: middle;\n",
       "    }\n",
       "\n",
       "    .dataframe tbody tr th {\n",
       "        vertical-align: top;\n",
       "    }\n",
       "\n",
       "    .dataframe thead th {\n",
       "        text-align: right;\n",
       "    }\n",
       "</style>\n",
       "<table border=\"1\" class=\"dataframe\">\n",
       "  <thead>\n",
       "    <tr style=\"text-align: right;\">\n",
       "      <th></th>\n",
       "      <th>Close/Last</th>\n",
       "      <th>Volume</th>\n",
       "      <th>Open</th>\n",
       "      <th>High</th>\n",
       "      <th>Low</th>\n",
       "    </tr>\n",
       "    <tr>\n",
       "      <th>Date</th>\n",
       "      <th></th>\n",
       "      <th></th>\n",
       "      <th></th>\n",
       "      <th></th>\n",
       "      <th></th>\n",
       "    </tr>\n",
       "  </thead>\n",
       "  <tbody>\n",
       "    <tr>\n",
       "      <th>2019-03-08</th>\n",
       "      <td>0.042399</td>\n",
       "      <td>NaN</td>\n",
       "      <td>0.042747</td>\n",
       "      <td>0.043664</td>\n",
       "      <td>0.042069</td>\n",
       "    </tr>\n",
       "    <tr>\n",
       "      <th>2019-03-09</th>\n",
       "      <td>0.046810</td>\n",
       "      <td>NaN</td>\n",
       "      <td>0.042399</td>\n",
       "      <td>0.047101</td>\n",
       "      <td>0.042347</td>\n",
       "    </tr>\n",
       "    <tr>\n",
       "      <th>2019-03-10</th>\n",
       "      <td>0.045223</td>\n",
       "      <td>NaN</td>\n",
       "      <td>0.043223</td>\n",
       "      <td>0.046878</td>\n",
       "      <td>0.045212</td>\n",
       "    </tr>\n",
       "    <tr>\n",
       "      <th>2019-03-11</th>\n",
       "      <td>0.048309</td>\n",
       "      <td>NaN</td>\n",
       "      <td>0.045523</td>\n",
       "      <td>0.048417</td>\n",
       "      <td>0.044662</td>\n",
       "    </tr>\n",
       "    <tr>\n",
       "      <th>2019-03-12</th>\n",
       "      <td>0.047209</td>\n",
       "      <td>NaN</td>\n",
       "      <td>0.047336</td>\n",
       "      <td>0.048115</td>\n",
       "      <td>0.045702</td>\n",
       "    </tr>\n",
       "    <tr>\n",
       "      <th>...</th>\n",
       "      <td>...</td>\n",
       "      <td>...</td>\n",
       "      <td>...</td>\n",
       "      <td>...</td>\n",
       "      <td>...</td>\n",
       "    </tr>\n",
       "    <tr>\n",
       "      <th>2021-09-06</th>\n",
       "      <td>2.829600</td>\n",
       "      <td>NaN</td>\n",
       "      <td>2.907600</td>\n",
       "      <td>2.874700</td>\n",
       "      <td>2.807900</td>\n",
       "    </tr>\n",
       "    <tr>\n",
       "      <th>2021-09-07</th>\n",
       "      <td>2.469600</td>\n",
       "      <td>NaN</td>\n",
       "      <td>2.826700</td>\n",
       "      <td>2.561400</td>\n",
       "      <td>2.456100</td>\n",
       "    </tr>\n",
       "    <tr>\n",
       "      <th>2021-09-08</th>\n",
       "      <td>2.420400</td>\n",
       "      <td>NaN</td>\n",
       "      <td>2.457200</td>\n",
       "      <td>2.504300</td>\n",
       "      <td>2.396900</td>\n",
       "    </tr>\n",
       "    <tr>\n",
       "      <th>2021-09-09</th>\n",
       "      <td>2.545200</td>\n",
       "      <td>NaN</td>\n",
       "      <td>2.424200</td>\n",
       "      <td>2.584800</td>\n",
       "      <td>2.496100</td>\n",
       "    </tr>\n",
       "    <tr>\n",
       "      <th>2021-09-10</th>\n",
       "      <td>2.380600</td>\n",
       "      <td>NaN</td>\n",
       "      <td>2.557800</td>\n",
       "      <td>2.442200</td>\n",
       "      <td>2.369900</td>\n",
       "    </tr>\n",
       "  </tbody>\n",
       "</table>\n",
       "<p>851 rows × 5 columns</p>\n",
       "</div>"
      ],
      "text/plain": [
       "            Close/Last  Volume      Open      High       Low\n",
       "Date                                                        \n",
       "2019-03-08    0.042399     NaN  0.042747  0.043664  0.042069\n",
       "2019-03-09    0.046810     NaN  0.042399  0.047101  0.042347\n",
       "2019-03-10    0.045223     NaN  0.043223  0.046878  0.045212\n",
       "2019-03-11    0.048309     NaN  0.045523  0.048417  0.044662\n",
       "2019-03-12    0.047209     NaN  0.047336  0.048115  0.045702\n",
       "...                ...     ...       ...       ...       ...\n",
       "2021-09-06    2.829600     NaN  2.907600  2.874700  2.807900\n",
       "2021-09-07    2.469600     NaN  2.826700  2.561400  2.456100\n",
       "2021-09-08    2.420400     NaN  2.457200  2.504300  2.396900\n",
       "2021-09-09    2.545200     NaN  2.424200  2.584800  2.496100\n",
       "2021-09-10    2.380600     NaN  2.557800  2.442200  2.369900\n",
       "\n",
       "[851 rows x 5 columns]"
      ]
     },
     "execution_count": 18,
     "metadata": {},
     "output_type": "execute_result"
    }
   ],
   "source": [
    "# Set the file path\n",
    "ada_historical_df = pd.read_csv(\n",
    "    Path(\"./Resources/ADA_Full_Historical_Data.csv\"), index_col=\"Date\", infer_datetime_format=True, parse_dates=True)\n",
    "\n",
    "# Print the DataFrame\n",
    "ada_historical_df = ada_historical_df.sort_values(by='Date')\n",
    "ada_historical_df"
   ]
  },
  {
   "cell_type": "code",
   "execution_count": 15,
   "id": "1c1b167f-7612-4919-8222-32b249669329",
   "metadata": {},
   "outputs": [
    {
     "data": {
      "text/plain": [
       "Close/Last    float64\n",
       "Volume        float64\n",
       "Open          float64\n",
       "High          float64\n",
       "Low           float64\n",
       "dtype: object"
      ]
     },
     "execution_count": 15,
     "metadata": {},
     "output_type": "execute_result"
    }
   ],
   "source": [
    "ada_historical_df.dtypes"
   ]
  },
  {
   "cell_type": "markdown",
   "id": "5c3fa920-f850-49c2-a0f0-95ddb722989f",
   "metadata": {},
   "source": [
    "### Generate a Dual Moving Average Crossover Trading Signal"
   ]
  },
  {
   "cell_type": "code",
   "execution_count": 16,
   "id": "7507822f-3925-474d-878e-12e909e365e9",
   "metadata": {},
   "outputs": [
    {
     "data": {
      "text/html": [
       "<div>\n",
       "<style scoped>\n",
       "    .dataframe tbody tr th:only-of-type {\n",
       "        vertical-align: middle;\n",
       "    }\n",
       "\n",
       "    .dataframe tbody tr th {\n",
       "        vertical-align: top;\n",
       "    }\n",
       "\n",
       "    .dataframe thead th {\n",
       "        text-align: right;\n",
       "    }\n",
       "</style>\n",
       "<table border=\"1\" class=\"dataframe\">\n",
       "  <thead>\n",
       "    <tr style=\"text-align: right;\">\n",
       "      <th></th>\n",
       "      <th>Close/Last</th>\n",
       "      <th>SMA10</th>\n",
       "      <th>SMA50</th>\n",
       "      <th>Signal</th>\n",
       "    </tr>\n",
       "    <tr>\n",
       "      <th>Date</th>\n",
       "      <th></th>\n",
       "      <th></th>\n",
       "      <th></th>\n",
       "      <th></th>\n",
       "    </tr>\n",
       "  </thead>\n",
       "  <tbody>\n",
       "    <tr>\n",
       "      <th>2019-03-08</th>\n",
       "      <td>0.042399</td>\n",
       "      <td>NaN</td>\n",
       "      <td>NaN</td>\n",
       "      <td>0.0</td>\n",
       "    </tr>\n",
       "    <tr>\n",
       "      <th>2019-03-09</th>\n",
       "      <td>0.046810</td>\n",
       "      <td>NaN</td>\n",
       "      <td>NaN</td>\n",
       "      <td>0.0</td>\n",
       "    </tr>\n",
       "    <tr>\n",
       "      <th>2019-03-10</th>\n",
       "      <td>0.045223</td>\n",
       "      <td>NaN</td>\n",
       "      <td>NaN</td>\n",
       "      <td>0.0</td>\n",
       "    </tr>\n",
       "    <tr>\n",
       "      <th>2019-03-11</th>\n",
       "      <td>0.048309</td>\n",
       "      <td>NaN</td>\n",
       "      <td>NaN</td>\n",
       "      <td>0.0</td>\n",
       "    </tr>\n",
       "    <tr>\n",
       "      <th>2019-03-12</th>\n",
       "      <td>0.047209</td>\n",
       "      <td>NaN</td>\n",
       "      <td>NaN</td>\n",
       "      <td>0.0</td>\n",
       "    </tr>\n",
       "    <tr>\n",
       "      <th>2019-03-13</th>\n",
       "      <td>0.046340</td>\n",
       "      <td>NaN</td>\n",
       "      <td>NaN</td>\n",
       "      <td>0.0</td>\n",
       "    </tr>\n",
       "    <tr>\n",
       "      <th>2019-03-14</th>\n",
       "      <td>0.047540</td>\n",
       "      <td>NaN</td>\n",
       "      <td>NaN</td>\n",
       "      <td>0.0</td>\n",
       "    </tr>\n",
       "    <tr>\n",
       "      <th>2019-03-15</th>\n",
       "      <td>0.049841</td>\n",
       "      <td>NaN</td>\n",
       "      <td>NaN</td>\n",
       "      <td>0.0</td>\n",
       "    </tr>\n",
       "    <tr>\n",
       "      <th>2019-03-16</th>\n",
       "      <td>0.050909</td>\n",
       "      <td>NaN</td>\n",
       "      <td>NaN</td>\n",
       "      <td>0.0</td>\n",
       "    </tr>\n",
       "    <tr>\n",
       "      <th>2019-03-17</th>\n",
       "      <td>0.050038</td>\n",
       "      <td>0.047462</td>\n",
       "      <td>NaN</td>\n",
       "      <td>0.0</td>\n",
       "    </tr>\n",
       "  </tbody>\n",
       "</table>\n",
       "</div>"
      ],
      "text/plain": [
       "            Close/Last     SMA10  SMA50  Signal\n",
       "Date                                           \n",
       "2019-03-08    0.042399       NaN    NaN     0.0\n",
       "2019-03-09    0.046810       NaN    NaN     0.0\n",
       "2019-03-10    0.045223       NaN    NaN     0.0\n",
       "2019-03-11    0.048309       NaN    NaN     0.0\n",
       "2019-03-12    0.047209       NaN    NaN     0.0\n",
       "2019-03-13    0.046340       NaN    NaN     0.0\n",
       "2019-03-14    0.047540       NaN    NaN     0.0\n",
       "2019-03-15    0.049841       NaN    NaN     0.0\n",
       "2019-03-16    0.050909       NaN    NaN     0.0\n",
       "2019-03-17    0.050038  0.047462    NaN     0.0"
      ]
     },
     "execution_count": 16,
     "metadata": {},
     "output_type": "execute_result"
    }
   ],
   "source": [
    "# Grab just the `date` and `Change %` from the dataset\n",
    "signals_df = ada_historical_df.loc[:, ['Close/Last']].copy()\n",
    "\n",
    "# Set the `date` column as the index\n",
    "\n",
    "# Set the short window and long windows\n",
    "short_window = 10\n",
    "long_window = 50\n",
    "\n",
    "# Generate the short and long moving averages (50 and 200 days, respectively)\n",
    "signals_df['SMA10'] = signals_df['Close/Last'].rolling(window=short_window).mean()\n",
    "signals_df['SMA50'] = signals_df['Close/Last'].rolling(window=long_window).mean()\n",
    "signals_df['Signal'] = 0.0\n",
    "\n",
    "# Generate the trading signal 0 or 1,\n",
    "# where 0 is when the SMA50 is under the SMA200, and\n",
    "# where 1 is when the SMA50 is higher (or crosses over) the SMA200\n",
    "#signals_df['Signal'][short_window:] = np.where(\n",
    "#    signals_df['SMA50'][short_window:] > signals_df['SMA200'][short_window:], 1.0, 0.0\n",
    "#)\n",
    "\n",
    "# Calculate the points in time at which a position should be taken, 1 or -1\n",
    "#signals_df['Entry/Exit'] = signals_df['Signal'].diff()\n",
    "\n",
    "# Print the DataFrame\n",
    "signals_df.head(10)"
   ]
  },
  {
   "cell_type": "code",
   "execution_count": 17,
   "id": "4d2b1e64-29ea-4e7d-96d8-a30aab8cbffc",
   "metadata": {},
   "outputs": [
    {
     "data": {
      "text/plain": [
       "<AxesSubplot:xlabel='Date'>"
      ]
     },
     "execution_count": 17,
     "metadata": {},
     "output_type": "execute_result"
    },
    {
     "data": {
      "image/png": "[encoded data removed]",
      "text/plain": [
       "<Figure size 792x360 with 1 Axes>"
      ]
     },
     "metadata": {
      "needs_background": "light"
     },
     "output_type": "display_data"
    }
   ],
   "source": [
    "signals_df.plot(figsize = (11, 5))"
   ]
  },
  {
   "cell_type": "code",
   "execution_count": null,
   "id": "031abdcc-58ce-4b03-8089-9e9fc3cb553e",
   "metadata": {},
   "outputs": [],
   "source": []
  },
  {
   "cell_type": "code",
   "execution_count": null,
   "id": "e158e1d5-bf96-4ea9-a1c8-f60f39352294",
   "metadata": {},
   "outputs": [],
   "source": []
  }
 ],
 "metadata": {
  "kernelspec": {
   "display_name": "Python 3",
   "language": "python",
   "name": "python3"
  },
  "language_info": {
   "codemirror_mode": {
    "name": "ipython",
    "version": 3
   },
   "file_extension": ".py",
   "mimetype": "text/x-python",
   "name": "python",
   "nbconvert_exporter": "python",
   "pygments_lexer": "ipython3",
   "version": "3.7.10"
  }
 },
 "nbformat": 4,
 "nbformat_minor": 5
}
