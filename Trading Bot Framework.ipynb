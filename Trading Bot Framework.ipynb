{
 "cells": [
  {
   "cell_type": "markdown",
   "id": "e9cbf237-6853-48dd-9201-f4e8b800831b",
   "metadata": {},
   "source": [
    "### TRADING BOT FRAMEWORK"
   ]
  },
  {
   "cell_type": "code",
   "execution_count": 28,
   "id": "c808c1fd-09c4-4fb6-b7bf-fe4245834aa5",
   "metadata": {},
   "outputs": [],
   "source": [
    "# Train a trading bot that is built with ML and test against historical ADA data from the last 90 days\n",
    "# then test the bot post (september 12th) when smart contracts have been implimented on the cardano blockchain"
   ]
  },
  {
   "cell_type": "code",
   "execution_count": 29,
   "id": "ae4770f3-8aec-4897-a817-f2646e14c8b6",
   "metadata": {},
   "outputs": [],
   "source": [
    "# Overview\n",
    "\n",
    "# make a bot that semi-automatic\n",
    "# alerts the trader when the approprate time is to sell\n",
    "# suggests trade decisions\n",
    "# suggests rebalancing decisions\n",
    "# set up a backtest to see its historical prefomance (hardest part)\n",
    "\n",
    "# Step #1: prepare data & gather ADA closing prices from the last 90 days, backtest data, test the sharpe ratio"
   ]
  },
  {
   "cell_type": "code",
   "execution_count": null,
   "id": "674dc566-189f-4739-91f6-7458287f9ac0",
   "metadata": {},
   "outputs": [],
   "source": [
    "# Workflow"
   ]
  },
  {
   "cell_type": "code",
   "execution_count": 8,
   "id": "809b62ba-7775-4b4b-9f16-daf542c897a6",
   "metadata": {
    "tags": []
   },
   "outputs": [
    {
     "ename": "TypeError",
     "evalue": "'int' object is not callable",
     "output_type": "error",
     "traceback": [
      "\u001b[1;31m---------------------------------------------------------------------------\u001b[0m",
      "\u001b[1;31mTypeError\u001b[0m                                 Traceback (most recent call last)",
      "\u001b[1;32m<ipython-input-8-7cd915432ee9>\u001b[0m in \u001b[0;36m<module>\u001b[1;34m\u001b[0m\n\u001b[0;32m      1\u001b[0m \u001b[1;31m# Initialize a Crypto account object\u001b[0m\u001b[1;33m\u001b[0m\u001b[1;33m\u001b[0m\u001b[1;33m\u001b[0m\u001b[0m\n\u001b[0;32m      2\u001b[0m \u001b[1;33m\u001b[0m\u001b[0m\n\u001b[1;32m----> 3\u001b[1;33m \u001b[0maccount\u001b[0m \u001b[1;33m=\u001b[0m \u001b[0mCryptoMarket\u001b[0m\u001b[1;33m(\u001b[0m\u001b[1;33m)\u001b[0m\u001b[1;33m\u001b[0m\u001b[1;33m\u001b[0m\u001b[0m\n\u001b[0m",
      "\u001b[1;31mTypeError\u001b[0m: 'int' object is not callable"
     ]
    }
   ],
   "source": [
    "# Initialize a Crypto account object\n",
    "\n",
    "account = CryptoMarket()"
   ]
  },
  {
   "cell_type": "code",
   "execution_count": 10,
   "id": "0661b50d-3f6b-4ab5-ab98-6ea0469433d2",
   "metadata": {},
   "outputs": [],
   "source": [
    "# set the crypto ticker and coin amount\n",
    "\n",
    "crypto = \"ADA\"\n",
    "coins = 100"
   ]
  },
  {
   "cell_type": "code",
   "execution_count": 11,
   "id": "045424a2-e473-4e27-859d-0a9f277bada7",
   "metadata": {},
   "outputs": [
    {
     "ename": "NameError",
     "evalue": "name 'account' is not defined",
     "output_type": "error",
     "traceback": [
      "\u001b[1;31m---------------------------------------------------------------------------\u001b[0m",
      "\u001b[1;31mNameError\u001b[0m                                 Traceback (most recent call last)",
      "\u001b[1;32m<ipython-input-11-c78653a9640f>\u001b[0m in \u001b[0;36m<module>\u001b[1;34m\u001b[0m\n\u001b[0;32m      3\u001b[0m \u001b[1;32mwhile\u001b[0m \u001b[1;32mTrue\u001b[0m\u001b[1;33m:\u001b[0m\u001b[1;33m\u001b[0m\u001b[1;33m\u001b[0m\u001b[0m\n\u001b[0;32m      4\u001b[0m     \u001b[1;31m# check intraday return\u001b[0m\u001b[1;33m\u001b[0m\u001b[1;33m\u001b[0m\u001b[1;33m\u001b[0m\u001b[0m\n\u001b[1;32m----> 5\u001b[1;33m     \u001b[0mintraday_return\u001b[0m \u001b[1;33m=\u001b[0m \u001b[0maccount\u001b[0m\u001b[1;33m.\u001b[0m\u001b[0mget_intraday_return\u001b[0m\u001b[1;33m(\u001b[0m\u001b[0mcrypto\u001b[0m\u001b[1;33m)\u001b[0m\u001b[1;33m\u001b[0m\u001b[1;33m\u001b[0m\u001b[0m\n\u001b[0m",
      "\u001b[1;31mNameError\u001b[0m: name 'account' is not defined"
     ]
    }
   ],
   "source": [
    "# Continuous loop that checks the intraday return of a particular crypto asset\n",
    "\n",
    "while True:\n",
    "    # check intraday return\n",
    "    intraday_return = account.get_intraday_return(crypto)\n",
    "    \n",
    "    # if intraday percentage return falls below (- 3%), sell crypto and coins\n",
    "    if intraday_return < -0.03:\n",
    "        account.sell(crypto, coins)"
   ]
  },
  {
   "cell_type": "code",
   "execution_count": 19,
   "id": "a0332631-0e25-4f80-b46f-d810f34eff2d",
   "metadata": {},
   "outputs": [],
   "source": [
    "# another rebalnace method could be..\n",
    "\n",
    "# if the portfolio has less than %30 cash, then find an asset that has\n",
    "# gained the most and sell it for some cash to rebalance the portfolio"
   ]
  },
  {
   "cell_type": "code",
   "execution_count": 24,
   "id": "75e6b6ae-1d76-49a8-a194-031686a71809",
   "metadata": {},
   "outputs": [],
   "source": [
    "# Signals (useful info for predicting the future direction of an asset)\n",
    "# 50 and 200 SMA for example\n",
    "# Entry rules (when signal reaches a pre-specified level)\n",
    "# Exit rules (when signal reaches a pre-specified level)\n",
    "\n",
    "# Obtain the data\n",
    "# Suggest a trade decision\n",
    "# Evaluate the results if choosen to execute the trade recommendation"
   ]
  },
  {
   "cell_type": "code",
   "execution_count": 25,
   "id": "75458100-cca2-4664-8cda-cbb8feec4f76",
   "metadata": {},
   "outputs": [],
   "source": [
    "# conditional loop algorithm\n",
    "# start\n",
    "# is condition true? (up 20%, is profitable) (Yes) \n",
    "# statement #1\n",
    "# STOP (sell and take gain)\n",
    "# is this condition true? (down %3, not profitable) (No)\n",
    "# statement #2\n",
    "# STOP (sell for further loss)\n",
    "# add a trailing stop loss and take profit \n",
    "\n",
    "# prevent further intraday loss of a crypto asset by selling that asset when the\n",
    "# intraday return falls below (- 3%) "
   ]
  },
  {
   "cell_type": "code",
   "execution_count": 26,
   "id": "499c616a-948b-408e-b8b1-7384c42401c2",
   "metadata": {},
   "outputs": [],
   "source": [
    "# Current price compaired to previous price to make the decition to \n",
    "# buy, sell, hodl"
   ]
  },
  {
   "cell_type": "markdown",
   "id": "449368ab-9f1d-44c8-9479-64c41e68810e",
   "metadata": {},
   "source": [
    "### Example / trading loop function "
   ]
  },
  {
   "cell_type": "code",
   "execution_count": null,
   "id": "33cf950c-4e41-4d26-92f6-9a04587e963b",
   "metadata": {},
   "outputs": [],
   "source": [
    "# Loop through the Pandas DataFrame and initiate a... \n",
    "# buy if the previous price is 0, in other words, buy on the first day\n",
    "# buy if the current day price is less than the previous day price, and\n",
    "# sell if the current day price is greater than the previous day price, and\n",
    "# hold if the current day price is equal to the previous day price\n",
    "for index, row in amd_df.iterrows():\n",
    "\n",
    "    if previous_price == 0: # (fund account)\n",
    "        amd_df.loc[index, \"side\"] = \"buy\"\n",
    "        buy.append(row[\"close\"])\n",
    "        amd_df.loc[index, \"per share profit/loss\"] = 0\n",
    "    elif row[\"close\"] < previous_price: # (only buy a portion, if price dips more then 5% from previous day)\n",
    "        amd_df.loc[index, \"side\"] = \"buy\"\n",
    "        buy.append(row[\"close\"])\n",
    "        amd_df.loc[index, \"per share profit/loss\"] = 0\n",
    "    elif row[\"close\"] > previous_price: # (only sell a portion, if price increases %10 from the previous day)\n",
    "        amd_df.loc[index, \"side\"] = \"sell\"\n",
    "        sell.append(row[\"close\"])\n",
    "        amd_df.loc[index, \"per share profit/loss\"] = sell[-1] - buy[-1]\n",
    "    else:\n",
    "        amd_df.loc[index, \"side\"] = \"hodl\" # (only hodl if price ratio is within the defined increase/decrease %)\n",
    "\n",
    "        # add a trailing stop loss and take profit within the loop\n",
    "\n",
    "    previous_price = row[\"close\"]"
   ]
  },
  {
   "cell_type": "markdown",
   "id": "02928d57-eefb-45e2-83dc-609ef7f993e4",
   "metadata": {},
   "source": [
    "### Calculate the profit and loss "
   ]
  },
  {
   "cell_type": "code",
   "execution_count": null,
   "id": "2ecca867-ff50-4254-ac01-8eeca48712a7",
   "metadata": {},
   "outputs": [],
   "source": [
    "# Add a `profit/loss` column for recording the trade metrics\n",
    "amd_df['side'] = np.nan\n",
    "amd_df['per share profit/loss'] = np.nan\n",
    "\n",
    "# Initialize variable to hold previous price\n",
    "previous_price = 0\n",
    "\n",
    "# Initialize buy and sell list containers\n",
    "buy = []\n",
    "sell = []\n",
    "\n",
    "# Loop through the Pandas DataFrame and initiate a... \n",
    "# buy if the previous price is 0, in other words, buy on the first day\n",
    "# buy if the current day price is less than the previous day price, and\n",
    "# sell if the current day price is greater than the previous day price, and\n",
    "# hold if the current day price is equal to the previous day price\n",
    "for index, row in amd_df.iterrows():\n",
    "\n",
    "    if previous_price == 0:\n",
    "        amd_df.loc[index, \"side\"] = \"buy\"\n",
    "        buy.append(row[\"close\"])\n",
    "        amd_df.loc[index, \"per share profit/loss\"] = 0\n",
    "    elif row[\"close\"] < previous_price:\n",
    "        amd_df.loc[index, \"side\"] = \"buy\"\n",
    "        buy.append(row[\"close\"])\n",
    "        amd_df.loc[index, \"per share profit/loss\"] = 0\n",
    "    elif row[\"close\"] > previous_price:\n",
    "        amd_df.loc[index, \"side\"] = \"sell\"\n",
    "        sell.append(row[\"close\"])\n",
    "        amd_df.loc[index, \"per share profit/loss\"] = sell[-1] - buy[-1]\n",
    "    else:\n",
    "        amd_df.loc[index, \"side\"] = \"hold\"\n",
    "\n",
    "    previous_price = row[\"close\"]\n",
    "\n",
    "# Print the DataFrame\n",
    "amd_df"
   ]
  },
  {
   "cell_type": "markdown",
   "id": "c3de5bc7-3bda-4db7-b86a-cf4f89619d41",
   "metadata": {},
   "source": [
    "### Back testing"
   ]
  },
  {
   "cell_type": "code",
   "execution_count": 30,
   "id": "d225b5d7-727e-4ba4-84ce-8c9aecf8fd80",
   "metadata": {},
   "outputs": [],
   "source": [
    "# Step #1 = read ADA csv into a Pandas DataFrame\n",
    "# Step #2 = generate Dual moving averages and a crossover signal\n",
    "# Plot entry and exit points based on dual moving average crossover strategy\n",
    "# Backtest the strategy\n",
    "# Plot entry / exit points of backtest results"
   ]
  },
  {
   "cell_type": "code",
   "execution_count": null,
   "id": "2759223f-2337-466e-8ac9-437d51589087",
   "metadata": {},
   "outputs": [],
   "source": [
    "# Initialize capital\n",
    "total_ada_coins = 10000\n",
    "\n",
    "# Set share size (every time we buy or sell)\n",
    "buy_or_sell_coins = 1000\n",
    "\n",
    "# Calculate the total profit/loss per 500 coin order size\n",
    "total_profit_loss = round(amd_df[\"per share profit/loss\"].sum() * share_size, 2)\n",
    "\n",
    "# Calculate the return on investment (convert into a %)\n",
    "roi = round((total_profit_loss / initial_capital) * 100, 2)\n",
    "\n",
    "# Print the profit/loss and ROI metrics\n",
    "print(\n",
    "    f\"The total profit/loss of this trading strategy is: ${total_profit_loss}, \"\n",
    "    f\"resulting in a return on investment of: {roi}%\"\n",
    ")"
   ]
  }
 ],
 "metadata": {
  "kernelspec": {
   "display_name": "Python 3",
   "language": "python",
   "name": "python3"
  },
  "language_info": {
   "codemirror_mode": {
    "name": "ipython",
    "version": 3
   },
   "file_extension": ".py",
   "mimetype": "text/x-python",
   "name": "python",
   "nbconvert_exporter": "python",
   "pygments_lexer": "ipython3",
   "version": "3.7.10"
  }
 },
 "nbformat": 4,
 "nbformat_minor": 5
}
